{
 "cells": [
  {
   "cell_type": "code",
   "execution_count": 48,
   "metadata": {},
   "outputs": [
    {
     "data": {
      "text/html": [
       "        <script type=\"text/javascript\">\n",
       "        window.PlotlyConfig = {MathJaxConfig: 'local'};\n",
       "        if (window.MathJax) {MathJax.Hub.Config({SVG: {font: \"STIX-Web\"}});}\n",
       "        if (typeof require !== 'undefined') {\n",
       "        require.undef(\"plotly\");\n",
       "        requirejs.config({\n",
       "            paths: {\n",
       "                'plotly': ['https://cdn.plot.ly/plotly-latest.min']\n",
       "            }\n",
       "        });\n",
       "        require(['plotly'], function(Plotly) {\n",
       "            window._Plotly = Plotly;\n",
       "        });\n",
       "        }\n",
       "        </script>\n",
       "        "
      ]
     },
     "metadata": {},
     "output_type": "display_data"
    }
   ],
   "source": [
    "import os\n",
    "os.environ['KERAS_BACKEND']='tensorflow'\n",
    "import tensorflow\n",
    "import keras\n",
    "from keras.layers import Conv2D, Conv3D, Flatten, Dense, Reshape, BatchNormalization\n",
    "from keras.layers import Dropout, Input\n",
    "from keras.models import Model\n",
    "from keras.optimizers import Adam\n",
    "from keras.callbacks import ModelCheckpoint\n",
    "from keras.utils import np_utils\n",
    "from keras.models import load_model\n",
    "\n",
    "from sklearn.decomposition import PCA\n",
    "from sklearn.model_selection import train_test_split\n",
    "from sklearn.metrics import confusion_matrix, accuracy_score, classification_report, cohen_kappa_score\n",
    "\n",
    "from operator import truediv\n",
    "\n",
    "from plotly.offline import init_notebook_mode\n",
    "\n",
    "import numpy as np\n",
    "import matplotlib.pyplot as plt\n",
    "import scipy.io as sio\n",
    "import spectral\n",
    "import datetime\n",
    "import h5py\n",
    "\n",
    "init_notebook_mode(connected=True)\n",
    "%matplotlib inline"
   ]
  },
  {
   "cell_type": "markdown",
   "metadata": {},
   "source": [
    "# Data Loading"
   ]
  },
  {
   "cell_type": "code",
   "execution_count": 49,
   "metadata": {},
   "outputs": [
    {
     "name": "stdout",
     "output_type": "stream",
     "text": [
      "model_weights\n",
      "model_weights/conv2d_16\n",
      "model_weights/conv2d_16/conv2d_16\n",
      "model_weights/conv2d_16/conv2d_16/bias:0\n",
      "model_weights/conv2d_16/conv2d_16/kernel:0\n",
      "model_weights/conv3d_46\n",
      "model_weights/conv3d_46/conv3d_46\n",
      "model_weights/conv3d_46/conv3d_46/bias:0\n",
      "model_weights/conv3d_46/conv3d_46/kernel:0\n",
      "model_weights/conv3d_47\n",
      "model_weights/conv3d_47/conv3d_47\n",
      "model_weights/conv3d_47/conv3d_47/bias:0\n",
      "model_weights/conv3d_47/conv3d_47/kernel:0\n",
      "model_weights/conv3d_48\n",
      "model_weights/conv3d_48/conv3d_48\n",
      "model_weights/conv3d_48/conv3d_48/bias:0\n",
      "model_weights/conv3d_48/conv3d_48/kernel:0\n",
      "model_weights/dense_46\n",
      "model_weights/dense_46/dense_46\n",
      "model_weights/dense_46/dense_46/bias:0\n",
      "model_weights/dense_46/dense_46/kernel:0\n",
      "model_weights/dense_47\n",
      "model_weights/dense_47/dense_47\n",
      "model_weights/dense_47/dense_47/bias:0\n",
      "model_weights/dense_47/dense_47/kernel:0\n",
      "model_weights/dense_48\n",
      "model_weights/dense_48/dense_48\n",
      "model_weights/dense_48/dense_48/bias:0\n",
      "model_weights/dense_48/dense_48/kernel:0\n",
      "model_weights/dropout_31\n",
      "model_weights/dropout_32\n",
      "model_weights/flatten_16\n",
      "model_weights/input_16\n",
      "model_weights/reshape_16\n",
      "optimizer_weights\n",
      "optimizer_weights/Variable_252:0\n",
      "optimizer_weights/Variable_253:0\n",
      "optimizer_weights/Variable_254:0\n",
      "optimizer_weights/Variable_255:0\n",
      "optimizer_weights/Variable_256:0\n",
      "optimizer_weights/Variable_257:0\n",
      "optimizer_weights/Variable_258:0\n",
      "optimizer_weights/Variable_259:0\n",
      "optimizer_weights/Variable_260:0\n",
      "optimizer_weights/Variable_261:0\n",
      "optimizer_weights/Variable_262:0\n",
      "optimizer_weights/Variable_263:0\n",
      "optimizer_weights/Variable_264:0\n",
      "optimizer_weights/Variable_265:0\n",
      "optimizer_weights/Variable_266:0\n",
      "optimizer_weights/Variable_267:0\n",
      "optimizer_weights/Variable_268:0\n",
      "optimizer_weights/Variable_269:0\n",
      "optimizer_weights/Variable_270:0\n",
      "optimizer_weights/Variable_271:0\n",
      "optimizer_weights/Variable_272:0\n",
      "optimizer_weights/Variable_273:0\n",
      "optimizer_weights/Variable_274:0\n",
      "optimizer_weights/Variable_275:0\n",
      "optimizer_weights/Variable_276:0\n",
      "optimizer_weights/Variable_277:0\n",
      "optimizer_weights/Variable_278:0\n",
      "optimizer_weights/Variable_279:0\n",
      "optimizer_weights/iterations_15:0\n"
     ]
    }
   ],
   "source": [
    "def prt(name):\n",
    "    print(name)\n",
    "fname = 'E:\\\\Projects\\\\Projects_for_Jupyter_Notebooks\\\\COURSE_AI_INTRO\\\\HybridSN-master\\\\SOTA-IP-6700epoch-best-model.hdf5'\n",
    "f = h5py.File(fname,'r')\n",
    "f.visit(prt)\n",
    "f.close()"
   ]
  },
  {
   "cell_type": "code",
   "execution_count": 50,
   "metadata": {
    "collapsed": true
   },
   "outputs": [],
   "source": [
    "## GLOBAL VARIABLES\n",
    "dataset = 'URB'\n",
    "test_ratio = 0.7\n",
    "windowSize = 25"
   ]
  },
  {
   "cell_type": "code",
   "execution_count": 51,
   "metadata": {
    "collapsed": true
   },
   "outputs": [],
   "source": [
    "def loadData(name):\n",
    "    data_path = os.path.join(os.getcwd(),'data')\n",
    "    if name == 'IP':\n",
    "        data = sio.loadmat(os.path.join(data_path, 'Indian_pines_corrected.mat'))['indian_pines_corrected']\n",
    "        labels = sio.loadmat(os.path.join(data_path, 'Indian_pines_gt.mat'))['indian_pines_gt']\n",
    "    elif name == 'SA':\n",
    "        data = sio.loadmat(os.path.join(data_path, 'Salinas_corrected.mat'))['salinas_corrected']\n",
    "        labels = sio.loadmat(os.path.join(data_path, 'Salinas_gt.mat'))['salinas_gt']\n",
    "    elif name == 'PU':\n",
    "        data = sio.loadmat(os.path.join(data_path, 'PaviaU.mat'))['paviaU']\n",
    "        labels = sio.loadmat(os.path.join(data_path, 'PaviaU_gt.mat'))['paviaU_gt']\n",
    "    ######################################################################################################\n",
    "    elif name == 'BO':\n",
    "        data = sio.loadmat(os.path.join(data_path, 'Botswana.mat'))['Botswana']\n",
    "        labels = sio.loadmat(os.path.join(data_path, 'Botswana_gt.mat'))['Botswana_gt']\n",
    "    elif name == 'KS':\n",
    "        data = sio.loadmat(os.path.join(data_path, 'KSC.mat'))['KSC']\n",
    "        labels = sio.loadmat(os.path.join(data_path, 'KSC_gt.mat'))['KSC_gt']\n",
    "    elif name == 'PA':\n",
    "        data = sio.loadmat(os.path.join(data_path, 'Pavia.mat'))['pavia']\n",
    "        labels = sio.loadmat(os.path.join(data_path, 'Pavia_gt.mat'))['pavia_gt']\n",
    "    elif name == 'XuZhou':\n",
    "        data = sio.loadmat(os.path.join(data_path, 'xuzhou.mat'))['xuzhou']\n",
    "        labels = sio.loadmat(os.path.join(data_path, 'xuzhou_gt.mat'))['xuzhou_gt']\n",
    "    elif name == 'URB':\n",
    "        data = sio.loadmat(os.path.join(data_path, 'urban.mat'))['urban']\n",
    "        labels = sio.loadmat(os.path.join(data_path, 'urban_gt.mat'))['urban_gt']\n",
    "    return data, labels"
   ]
  },
  {
   "cell_type": "code",
   "execution_count": 52,
   "metadata": {
    "collapsed": true
   },
   "outputs": [],
   "source": [
    "def splitTrainTestSet(X, y, testRatio, randomState=345):\n",
    "    X_train, X_test, y_train, y_test = train_test_split(X, y, test_size=testRatio, random_state=randomState,\n",
    "                                                        stratify=y)\n",
    "    return X_train, X_test, y_train, y_test"
   ]
  },
  {
   "cell_type": "code",
   "execution_count": 53,
   "metadata": {
    "collapsed": true
   },
   "outputs": [],
   "source": [
    "def applyPCA(X, numComponents=75):\n",
    "    newX = np.reshape(X, (-1, X.shape[2]))\n",
    "    pca = PCA(n_components=numComponents, whiten=True)\n",
    "    newX = pca.fit_transform(newX)\n",
    "    newX = np.reshape(newX, (X.shape[0],X.shape[1], numComponents))\n",
    "    return newX, pca"
   ]
  },
  {
   "cell_type": "code",
   "execution_count": 54,
   "metadata": {
    "collapsed": true
   },
   "outputs": [],
   "source": [
    "def padWithZeros(X, margin=2):\n",
    "    newX = np.zeros((X.shape[0] + 2 * margin, X.shape[1] + 2* margin, X.shape[2]))\n",
    "    x_offset = margin\n",
    "    y_offset = margin\n",
    "    newX[x_offset:X.shape[0] + x_offset, y_offset:X.shape[1] + y_offset, :] = X\n",
    "    return newX"
   ]
  },
  {
   "cell_type": "code",
   "execution_count": 55,
   "metadata": {
    "collapsed": true
   },
   "outputs": [],
   "source": [
    "def createImageCubes(X, y, windowSize=5, removeZeroLabels = True):\n",
    "    margin = int((windowSize - 1) / 2)\n",
    "    zeroPaddedX = padWithZeros(X, margin=margin)\n",
    "    # split patches\n",
    "    patchesData = np.zeros((X.shape[0] * X.shape[1], windowSize, windowSize, X.shape[2]))\n",
    "    patchesLabels = np.zeros((X.shape[0] * X.shape[1]))\n",
    "    patchIndex = 0\n",
    "    for r in range(margin, zeroPaddedX.shape[0] - margin):\n",
    "        for c in range(margin, zeroPaddedX.shape[1] - margin):\n",
    "            patch = zeroPaddedX[r - margin:r + margin + 1, c - margin:c + margin + 1]   \n",
    "            patchesData[patchIndex, :, :, :] = patch\n",
    "            patchesLabels[patchIndex] = y[r-margin, c-margin]\n",
    "            patchIndex = patchIndex + 1\n",
    "    if removeZeroLabels:\n",
    "        patchesData = patchesData[patchesLabels>0,:,:,:]\n",
    "        patchesLabels = patchesLabels[patchesLabels>0]\n",
    "        patchesLabels -= 1\n",
    "    return patchesData, patchesLabels"
   ]
  },
  {
   "cell_type": "code",
   "execution_count": 56,
   "metadata": {},
   "outputs": [
    {
     "data": {
      "text/plain": [
       "((250, 250, 210), (250, 250))"
      ]
     },
     "execution_count": 56,
     "metadata": {},
     "output_type": "execute_result"
    }
   ],
   "source": [
    "X, y = loadData(dataset)\n",
    "\n",
    "X.shape, y.shape"
   ]
  },
  {
   "cell_type": "code",
   "execution_count": 57,
   "metadata": {},
   "outputs": [
    {
     "data": {
      "text/plain": [
       "(250, 250, 15)"
      ]
     },
     "execution_count": 57,
     "metadata": {},
     "output_type": "execute_result"
    }
   ],
   "source": [
    "K = 30 if dataset == 'IP' else 15\n",
    "X,pca = applyPCA(X,numComponents=K)\n",
    "X.shape"
   ]
  },
  {
   "cell_type": "code",
   "execution_count": 58,
   "metadata": {},
   "outputs": [
    {
     "data": {
      "text/plain": [
       "((62500, 25, 25, 15), (62500,))"
      ]
     },
     "execution_count": 58,
     "metadata": {},
     "output_type": "execute_result"
    }
   ],
   "source": [
    "X, y = createImageCubes(X, y, windowSize=windowSize)\n",
    "\n",
    "X.shape, y.shape"
   ]
  },
  {
   "cell_type": "code",
   "execution_count": 59,
   "metadata": {},
   "outputs": [
    {
     "data": {
      "text/plain": [
       "((18750, 25, 25, 15), (43750, 25, 25, 15), (18750,), (43750,))"
      ]
     },
     "execution_count": 59,
     "metadata": {},
     "output_type": "execute_result"
    }
   ],
   "source": [
    "Xtrain, Xtest, ytrain, ytest = splitTrainTestSet(X, y, test_ratio)\n",
    "\n",
    "Xtrain.shape, Xtest.shape, ytrain.shape, ytest.shape"
   ]
  },
  {
   "cell_type": "markdown",
   "metadata": {},
   "source": [
    "Xtrain, Xvalid, ytrain, yvalid = splitTrainTestSet(Xtrain, ytrain, 0.3333)\n",
    "\n",
    "Xtrain.shape, Xvalid.shape, ytrain.shape, yvalid.shape"
   ]
  },
  {
   "cell_type": "markdown",
   "metadata": {},
   "source": [
    "# Model and Training"
   ]
  },
  {
   "cell_type": "code",
   "execution_count": 60,
   "metadata": {},
   "outputs": [
    {
     "data": {
      "text/plain": [
       "(18750, 25, 25, 15, 1)"
      ]
     },
     "execution_count": 60,
     "metadata": {},
     "output_type": "execute_result"
    }
   ],
   "source": [
    "Xtrain = Xtrain.reshape(-1, windowSize, windowSize, K, 1)\n",
    "Xtrain.shape"
   ]
  },
  {
   "cell_type": "code",
   "execution_count": 61,
   "metadata": {},
   "outputs": [
    {
     "data": {
      "text/plain": [
       "(18750, 4)"
      ]
     },
     "execution_count": 61,
     "metadata": {},
     "output_type": "execute_result"
    }
   ],
   "source": [
    "if dataset == \"URB\":\n",
    "    num_classes = 4\n",
    "elif dataset == \"IP\":\n",
    "    num_classes = 16\n",
    "elif dataset == \"XuZhou\":\n",
    "    num_classes = 10\n",
    "ytrain = np_utils.to_categorical(ytrain, num_classes = num_classes)\n",
    "ytrain.shape"
   ]
  },
  {
   "cell_type": "markdown",
   "metadata": {},
   "source": [
    "Xvalid = Xvalid.reshape(-1, windowSize, windowSize, K, 1)\n",
    "Xvalid.shape"
   ]
  },
  {
   "cell_type": "markdown",
   "metadata": {},
   "source": [
    "yvalid = np_utils.to_categorical(yvalid)\n",
    "yvalid.shape"
   ]
  },
  {
   "cell_type": "code",
   "execution_count": 62,
   "metadata": {},
   "outputs": [
    {
     "name": "stdout",
     "output_type": "stream",
     "text": [
      "所用数据集为： URB , 输出标签的种类共有： 4\n"
     ]
    }
   ],
   "source": [
    "S = windowSize\n",
    "L = K\n",
    "if (dataset == 'PU' or dataset == 'PA'):\n",
    "    output_units = 9 \n",
    "elif (dataset == 'URB'):\n",
    "    output_units = 4\n",
    "elif(dataset == 'KS'):\n",
    "    output_units = 13\n",
    "elif(dataset == 'BO'):\n",
    "    output_units = 14\n",
    "elif(dataset == 'SA' or dataset == 'IP'):\n",
    "    output_units = 16\n",
    "elif dataset == 'XuZhou':\n",
    "    output_units = 10\n",
    "    \n",
    "print(\"所用数据集为：\", dataset, \", 输出标签的种类共有：\", output_units)"
   ]
  },
  {
   "cell_type": "code",
   "execution_count": 63,
   "metadata": {},
   "outputs": [
    {
     "name": "stdout",
     "output_type": "stream",
     "text": [
      "(None, 19, 19, 3, 32)\n"
     ]
    }
   ],
   "source": [
    "## input layer\n",
    "input_layer = Input((S, S, L, 1))\n",
    "\n",
    "## convolutional layers\n",
    "conv_layer1 = Conv3D(filters=8, kernel_size=(3, 3, 7), activation='relu', trainable=False)(input_layer)\n",
    "conv_layer2 = Conv3D(filters=16, kernel_size=(3, 3, 5), activation='relu', trainable=False)(conv_layer1)\n",
    "conv_layer3 = Conv3D(filters=32, kernel_size=(3, 3, 3), activation='relu', trainable=False)(conv_layer2)\n",
    "print(conv_layer3._keras_shape)\n",
    "conv3d_shape = conv_layer3._keras_shape\n",
    "conv_layer3 = Reshape((conv3d_shape[1], conv3d_shape[2], conv3d_shape[3]*conv3d_shape[4]))(conv_layer3)\n",
    "conv_layer4 = Conv2D(filters=64, kernel_size=(3,3), activation='relu', trainable=False)(conv_layer3)\n",
    "\n",
    "flatten_layer = Flatten()(conv_layer4)\n",
    "\n",
    "## fully connected layers\n",
    "dense_layer1 = Dense(units=256, activation='relu', trainable=True)(flatten_layer)\n",
    "dense_layer1 = Dropout(0.4)(dense_layer1)\n",
    "\n",
    "dense_layer2 = Dense(units=128, activation='relu', trainable=True)(dense_layer1)\n",
    "dense_layer2 = Dropout(0.4)(dense_layer2)\n",
    "\n",
    "# 我是没有用的输出层\n",
    "output_layer = Dense(units=6, activation='relu', trainable=False)(dense_layer2)\n",
    "output_layer = Dropout(0.4)(output_layer)\n",
    "# 我是上面那层工具人\n",
    "\n",
    "real_output_layer = Dense(units=output_units, activation='softmax', trainable=True)(dense_layer2)"
   ]
  },
  {
   "cell_type": "code",
   "execution_count": 64,
   "metadata": {
    "collapsed": true
   },
   "outputs": [],
   "source": [
    "model_load = Model(inputs=input_layer, outputs=output_layer)\n",
    "model = Model(inputs=input_layer, outputs=real_output_layer)"
   ]
  },
  {
   "cell_type": "code",
   "execution_count": 65,
   "metadata": {},
   "outputs": [
    {
     "data": {
      "text/plain": [
       "12"
      ]
     },
     "execution_count": 65,
     "metadata": {},
     "output_type": "execute_result"
    }
   ],
   "source": [
    "len(model.layers)"
   ]
  },
  {
   "cell_type": "code",
   "execution_count": 66,
   "metadata": {
    "collapsed": true
   },
   "outputs": [],
   "source": [
    "# load weights\n",
    "# if dataset == \"URB\":\n",
    "model_load.load_weights(fname, by_name=True)\n",
    "for i in range(len(model_load.layers)-4):      # -3 or -4\n",
    "    model.layers[i].set_weights(model_load.layers[i].get_weights())"
   ]
  },
  {
   "cell_type": "code",
   "execution_count": 67,
   "metadata": {},
   "outputs": [
    {
     "name": "stdout",
     "output_type": "stream",
     "text": [
      "_________________________________________________________________\n",
      "Layer (type)                 Output Shape              Param #   \n",
      "=================================================================\n",
      "input_2 (InputLayer)         (None, 25, 25, 15, 1)     0         \n",
      "_________________________________________________________________\n",
      "conv3d_4 (Conv3D)            (None, 23, 23, 9, 8)      512       \n",
      "_________________________________________________________________\n",
      "conv3d_5 (Conv3D)            (None, 21, 21, 5, 16)     5776      \n",
      "_________________________________________________________________\n",
      "conv3d_6 (Conv3D)            (None, 19, 19, 3, 32)     13856     \n",
      "_________________________________________________________________\n",
      "reshape_2 (Reshape)          (None, 19, 19, 96)        0         \n",
      "_________________________________________________________________\n",
      "conv2d_2 (Conv2D)            (None, 17, 17, 64)        55360     \n",
      "_________________________________________________________________\n",
      "flatten_2 (Flatten)          (None, 18496)             0         \n",
      "_________________________________________________________________\n",
      "dense_5 (Dense)              (None, 256)               4735232   \n",
      "_________________________________________________________________\n",
      "dropout_4 (Dropout)          (None, 256)               0         \n",
      "_________________________________________________________________\n",
      "dense_6 (Dense)              (None, 128)               32896     \n",
      "_________________________________________________________________\n",
      "dropout_5 (Dropout)          (None, 128)               0         \n",
      "_________________________________________________________________\n",
      "dense_8 (Dense)              (None, 4)                 516       \n",
      "=================================================================\n",
      "Total params: 4,844,148.0\n",
      "Trainable params: 4,768,644.0\n",
      "Non-trainable params: 75,504.0\n",
      "_________________________________________________________________\n"
     ]
    }
   ],
   "source": [
    "model.summary()"
   ]
  },
  {
   "cell_type": "code",
   "execution_count": 68,
   "metadata": {},
   "outputs": [
    {
     "name": "stdout",
     "output_type": "stream",
     "text": [
      "input_2  is trainable?  False\n",
      "conv3d_4  is trainable?  False\n",
      "conv3d_5  is trainable?  False\n",
      "conv3d_6  is trainable?  False\n",
      "reshape_2  is trainable?  True\n",
      "conv2d_2  is trainable?  False\n",
      "flatten_2  is trainable?  True\n",
      "dense_5  is trainable?  True\n",
      "dropout_4  is trainable?  True\n",
      "dense_6  is trainable?  True\n",
      "dropout_5  is trainable?  True\n",
      "dense_8  is trainable?  True\n"
     ]
    }
   ],
   "source": [
    "for layer in model.layers:\n",
    "        print(layer.name, ' is trainable? ', layer.trainable)\n",
    "        "
   ]
  },
  {
   "cell_type": "code",
   "execution_count": 69,
   "metadata": {
    "collapsed": true
   },
   "outputs": [],
   "source": [
    "# compiling the model\n",
    "adam = Adam(lr=0.0001, decay=1e-06)\n",
    "model.compile(loss='categorical_crossentropy', optimizer=adam, metrics=['accuracy'])"
   ]
  },
  {
   "cell_type": "code",
   "execution_count": 70,
   "metadata": {
    "collapsed": true
   },
   "outputs": [],
   "source": [
    "# checkpoint\n",
    "filepath = \"best-model.hdf5\"\n",
    "checkpoint = ModelCheckpoint(filepath, monitor='acc', verbose=1, save_best_only=True, mode='max')\n",
    "callbacks_list = [checkpoint]"
   ]
  },
  {
   "cell_type": "code",
   "execution_count": 71,
   "metadata": {
    "scrolled": true
   },
   "outputs": [
    {
     "name": "stdout",
     "output_type": "stream",
     "text": [
      "Epoch 1/100\n",
      "18688/18750 [============================>.] - ETA: 0s - loss: 1.2161 - acc: 0.4932Epoch 00000: acc improved from -inf to 0.49360, saving model to best-model.hdf5\n",
      "18750/18750 [==============================] - 1s - loss: 1.2152 - acc: 0.4936     \n",
      "Epoch 2/100\n",
      "18688/18750 [============================>.] - ETA: 0s - loss: 0.9571 - acc: 0.6153Epoch 00001: acc improved from 0.49360 to 0.61541, saving model to best-model.hdf5\n",
      "18750/18750 [==============================] - 1s - loss: 0.9567 - acc: 0.6154     \n",
      "Epoch 3/100\n",
      "18432/18750 [============================>.] - ETA: 0s - loss: 0.8488 - acc: 0.6686Epoch 00002: acc improved from 0.61541 to 0.66859, saving model to best-model.hdf5\n",
      "18750/18750 [==============================] - 1s - loss: 0.8490 - acc: 0.6686     \n",
      "Epoch 4/100\n",
      "18176/18750 [============================>.] - ETA: 0s - loss: 0.7774 - acc: 0.6978Epoch 00003: acc improved from 0.66859 to 0.69840, saving model to best-model.hdf5\n",
      "18750/18750 [==============================] - 1s - loss: 0.7770 - acc: 0.6984     \n",
      "Epoch 5/100\n",
      "18176/18750 [============================>.] - ETA: 0s - loss: 0.7226 - acc: 0.7255Epoch 00004: acc improved from 0.69840 to 0.72699, saving model to best-model.hdf5\n",
      "18750/18750 [==============================] - 1s - loss: 0.7208 - acc: 0.7270     \n",
      "Epoch 6/100\n",
      "18688/18750 [============================>.] - ETA: 0s - loss: 0.6695 - acc: 0.7469Epoch 00005: acc improved from 0.72699 to 0.74704, saving model to best-model.hdf5\n",
      "18750/18750 [==============================] - 1s - loss: 0.6694 - acc: 0.7470     \n",
      "Epoch 7/100\n",
      "18176/18750 [============================>.] - ETA: 0s - loss: 0.6362 - acc: 0.7586Epoch 00006: acc improved from 0.74704 to 0.75787, saving model to best-model.hdf5\n",
      "18750/18750 [==============================] - 1s - loss: 0.6380 - acc: 0.7579     \n",
      "Epoch 8/100\n",
      "18176/18750 [============================>.] - ETA: 0s - loss: 0.5894 - acc: 0.7777Epoch 00007: acc improved from 0.75787 to 0.77861, saving model to best-model.hdf5\n",
      "18750/18750 [==============================] - 1s - loss: 0.5885 - acc: 0.7786     \n",
      "Epoch 9/100\n",
      "18176/18750 [============================>.] - ETA: 0s - loss: 0.5541 - acc: 0.7937Epoch 00008: acc improved from 0.77861 to 0.79413, saving model to best-model.hdf5\n",
      "18750/18750 [==============================] - 1s - loss: 0.5532 - acc: 0.7941     \n",
      "Epoch 10/100\n",
      "18176/18750 [============================>.] - ETA: 0s - loss: 0.5263 - acc: 0.8039Epoch 00009: acc improved from 0.79413 to 0.80331, saving model to best-model.hdf5\n",
      "18750/18750 [==============================] - 1s - loss: 0.5270 - acc: 0.8033     \n",
      "Epoch 11/100\n",
      "18432/18750 [============================>.] - ETA: 0s - loss: 0.4832 - acc: 0.8222Epoch 00010: acc improved from 0.80331 to 0.82229, saving model to best-model.hdf5\n",
      "18750/18750 [==============================] - 1s - loss: 0.4826 - acc: 0.8223     \n",
      "Epoch 12/100\n",
      "18432/18750 [============================>.] - ETA: 0s - loss: 0.4586 - acc: 0.8311Epoch 00011: acc improved from 0.82229 to 0.83083, saving model to best-model.hdf5\n",
      "18750/18750 [==============================] - 1s - loss: 0.4590 - acc: 0.8308     \n",
      "Epoch 13/100\n",
      "18432/18750 [============================>.] - ETA: 0s - loss: 0.4173 - acc: 0.8471Epoch 00012: acc improved from 0.83083 to 0.84651, saving model to best-model.hdf5\n",
      "18750/18750 [==============================] - 1s - loss: 0.4178 - acc: 0.8465     \n",
      "Epoch 14/100\n",
      "18688/18750 [============================>.] - ETA: 0s - loss: 0.3846 - acc: 0.8588Epoch 00013: acc improved from 0.84651 to 0.85872, saving model to best-model.hdf5\n",
      "18750/18750 [==============================] - 1s - loss: 0.3845 - acc: 0.8587     \n",
      "Epoch 15/100\n",
      "18688/18750 [============================>.] - ETA: 0s - loss: 0.3642 - acc: 0.8691Epoch 00014: acc improved from 0.85872 to 0.86891, saving model to best-model.hdf5\n",
      "18750/18750 [==============================] - 1s - loss: 0.3643 - acc: 0.8689     \n",
      "Epoch 16/100\n",
      "18432/18750 [============================>.] - ETA: 0s - loss: 0.3281 - acc: 0.8836Epoch 00015: acc improved from 0.86891 to 0.88363, saving model to best-model.hdf5\n",
      "18750/18750 [==============================] - 1s - loss: 0.3273 - acc: 0.8836     \n",
      "Epoch 17/100\n",
      "18688/18750 [============================>.] - ETA: 0s - loss: 0.2971 - acc: 0.8967Epoch 00016: acc improved from 0.88363 to 0.89664, saving model to best-model.hdf5\n",
      "18750/18750 [==============================] - 1s - loss: 0.2972 - acc: 0.8966     \n",
      "Epoch 18/100\n",
      "18176/18750 [============================>.] - ETA: 0s - loss: 0.2779 - acc: 0.9019Epoch 00017: acc improved from 0.89664 to 0.90187, saving model to best-model.hdf5\n",
      "18750/18750 [==============================] - 1s - loss: 0.2781 - acc: 0.9019     \n",
      "Epoch 19/100\n",
      "18176/18750 [============================>.] - ETA: 0s - loss: 0.2621 - acc: 0.9093Epoch 00018: acc improved from 0.90187 to 0.90928, saving model to best-model.hdf5\n",
      "18750/18750 [==============================] - 1s - loss: 0.2618 - acc: 0.9093     \n",
      "Epoch 20/100\n",
      "18432/18750 [============================>.] - ETA: 0s - loss: 0.2383 - acc: 0.9201Epoch 00019: acc improved from 0.90928 to 0.92016, saving model to best-model.hdf5\n",
      "18750/18750 [==============================] - 1s - loss: 0.2381 - acc: 0.9202     \n",
      "Epoch 21/100\n",
      "18688/18750 [============================>.] - ETA: 0s - loss: 0.2273 - acc: 0.9195Epoch 00020: acc did not improve\n",
      "18750/18750 [==============================] - 1s - loss: 0.2271 - acc: 0.9195     \n",
      "Epoch 22/100\n",
      "18176/18750 [============================>.] - ETA: 0s - loss: 0.2027 - acc: 0.9321Epoch 00021: acc improved from 0.92016 to 0.93173, saving model to best-model.hdf5\n",
      "18750/18750 [==============================] - 1s - loss: 0.2027 - acc: 0.9317     \n",
      "Epoch 23/100\n",
      "18176/18750 [============================>.] - ETA: 0s - loss: 0.1746 - acc: 0.9409Epoch 00022: acc improved from 0.93173 to 0.94128, saving model to best-model.hdf5\n",
      "18750/18750 [==============================] - 1s - loss: 0.1741 - acc: 0.9413     \n",
      "Epoch 24/100\n",
      "18688/18750 [============================>.] - ETA: 0s - loss: 0.1665 - acc: 0.9452Epoch 00023: acc improved from 0.94128 to 0.94507, saving model to best-model.hdf5\n",
      "18750/18750 [==============================] - 1s - loss: 0.1664 - acc: 0.9451     \n",
      "Epoch 25/100\n",
      "18176/18750 [============================>.] - ETA: 0s - loss: 0.1574 - acc: 0.9481Epoch 00024: acc improved from 0.94507 to 0.94859, saving model to best-model.hdf5\n",
      "18750/18750 [==============================] - 1s - loss: 0.1563 - acc: 0.9486     \n",
      "Epoch 26/100\n",
      "18432/18750 [============================>.] - ETA: 0s - loss: 0.1397 - acc: 0.9535Epoch 00025: acc improved from 0.94859 to 0.95349, saving model to best-model.hdf5\n",
      "18750/18750 [==============================] - 1s - loss: 0.1395 - acc: 0.9535     \n",
      "Epoch 27/100\n",
      "18432/18750 [============================>.] - ETA: 0s - loss: 0.1414 - acc: 0.9520Epoch 00026: acc did not improve\n",
      "18750/18750 [==============================] - 1s - loss: 0.1413 - acc: 0.9522     \n",
      "Epoch 28/100\n",
      "18688/18750 [============================>.] - ETA: 0s - loss: 0.1221 - acc: 0.9591Epoch 00027: acc improved from 0.95349 to 0.95909, saving model to best-model.hdf5\n",
      "18750/18750 [==============================] - 1s - loss: 0.1219 - acc: 0.9591     \n",
      "Epoch 29/100\n",
      "18432/18750 [============================>.] - ETA: 0s - loss: 0.1069 - acc: 0.9660Epoch 00028: acc improved from 0.95909 to 0.96592, saving model to best-model.hdf5\n",
      "18750/18750 [==============================] - 1s - loss: 0.1071 - acc: 0.9659     \n",
      "Epoch 30/100\n",
      "18688/18750 [============================>.] - ETA: 0s - loss: 0.1091 - acc: 0.9659Epoch 00029: acc did not improve\n",
      "18750/18750 [==============================] - 1s - loss: 0.1090 - acc: 0.9659     \n",
      "Epoch 31/100\n",
      "18432/18750 [============================>.] - ETA: 0s - loss: 0.0997 - acc: 0.9669Epoch 00030: acc improved from 0.96592 to 0.96704, saving model to best-model.hdf5\n",
      "18750/18750 [==============================] - 1s - loss: 0.0993 - acc: 0.9670     \n",
      "Epoch 32/100\n",
      "18432/18750 [============================>.] - ETA: 0s - loss: 0.0984 - acc: 0.9669Epoch 00031: acc did not improve\n",
      "18750/18750 [==============================] - 1s - loss: 0.0986 - acc: 0.9667     \n",
      "Epoch 33/100\n",
      "18688/18750 [============================>.] - ETA: 0s - loss: 0.1001 - acc: 0.9674Epoch 00032: acc improved from 0.96704 to 0.96752, saving model to best-model.hdf5\n",
      "18750/18750 [==============================] - 1s - loss: 0.1000 - acc: 0.9675     \n",
      "Epoch 34/100\n",
      "18432/18750 [============================>.] - ETA: 0s - loss: 0.0941 - acc: 0.9691Epoch 00033: acc improved from 0.96752 to 0.96912, saving model to best-model.hdf5\n",
      "18750/18750 [==============================] - 1s - loss: 0.0942 - acc: 0.9691     \n",
      "Epoch 35/100\n",
      "18688/18750 [============================>.] - ETA: 0s - loss: 0.0805 - acc: 0.9748Epoch 00034: acc improved from 0.96912 to 0.97461, saving model to best-model.hdf5\n",
      "18750/18750 [==============================] - 1s - loss: 0.0808 - acc: 0.9746     \n",
      "Epoch 36/100\n",
      "18176/18750 [============================>.] - ETA: 0s - loss: 0.0953 - acc: 0.9676Epoch 00035: acc did not improve\n",
      "18750/18750 [==============================] - 1s - loss: 0.0950 - acc: 0.9675     \n",
      "Epoch 37/100\n",
      "18432/18750 [============================>.] - ETA: 0s - loss: 0.0713 - acc: 0.9782Epoch 00036: acc improved from 0.97461 to 0.97813, saving model to best-model.hdf5\n",
      "18750/18750 [==============================] - 1s - loss: 0.0713 - acc: 0.9781     \n",
      "Epoch 38/100\n",
      "18432/18750 [============================>.] - ETA: 0s - loss: 0.0695 - acc: 0.9772Epoch 00037: acc did not improve\n",
      "18750/18750 [==============================] - 1s - loss: 0.0695 - acc: 0.9772     \n",
      "Epoch 39/100\n",
      "18432/18750 [============================>.] - ETA: 0s - loss: 0.0733 - acc: 0.9766Epoch 00038: acc did not improve\n",
      "18750/18750 [==============================] - 1s - loss: 0.0734 - acc: 0.9766     \n",
      "Epoch 40/100\n",
      "18688/18750 [============================>.] - ETA: 0s - loss: 0.0656 - acc: 0.9799Epoch 00039: acc improved from 0.97813 to 0.97995, saving model to best-model.hdf5\n",
      "18750/18750 [==============================] - 1s - loss: 0.0656 - acc: 0.9799     \n",
      "Epoch 41/100\n",
      "18688/18750 [============================>.] - ETA: 0s - loss: 0.0650 - acc: 0.9788Epoch 00040: acc did not improve\n",
      "18750/18750 [==============================] - 1s - loss: 0.0650 - acc: 0.9788     \n",
      "Epoch 42/100\n",
      "18688/18750 [============================>.] - ETA: 0s - loss: 0.0600 - acc: 0.9810Epoch 00041: acc improved from 0.97995 to 0.98101, saving model to best-model.hdf5\n",
      "18750/18750 [==============================] - 1s - loss: 0.0599 - acc: 0.9810     \n",
      "Epoch 43/100\n",
      "18176/18750 [============================>.] - ETA: 0s - loss: 0.0686 - acc: 0.9767Epoch 00042: acc did not improve\n",
      "18750/18750 [==============================] - 1s - loss: 0.0687 - acc: 0.9766     \n",
      "Epoch 44/100\n",
      "18688/18750 [============================>.] - ETA: 0s - loss: 0.0619 - acc: 0.9804Epoch 00043: acc did not improve\n",
      "18750/18750 [==============================] - 1s - loss: 0.0620 - acc: 0.9804     \n",
      "Epoch 45/100\n",
      "18432/18750 [============================>.] - ETA: 0s - loss: 0.0658 - acc: 0.9778Epoch 00044: acc did not improve\n",
      "18750/18750 [==============================] - 1s - loss: 0.0655 - acc: 0.9779     \n",
      "Epoch 46/100\n",
      "18432/18750 [============================>.] - ETA: 0s - loss: 0.0644 - acc: 0.9780Epoch 00045: acc did not improve\n",
      "18750/18750 [==============================] - 1s - loss: 0.0640 - acc: 0.9783     \n",
      "Epoch 47/100\n",
      "18176/18750 [============================>.] - ETA: 0s - loss: 0.0567 - acc: 0.9806Epoch 00046: acc did not improve\n",
      "18750/18750 [==============================] - 1s - loss: 0.0569 - acc: 0.9805     \n",
      "Epoch 48/100\n",
      "18176/18750 [============================>.] - ETA: 0s - loss: 0.0793 - acc: 0.9715Epoch 00047: acc did not improve\n",
      "18750/18750 [==============================] - 1s - loss: 0.0784 - acc: 0.9719     \n",
      "Epoch 49/100\n",
      "18176/18750 [============================>.] - ETA: 0s - loss: 0.0630 - acc: 0.9788Epoch 00048: acc did not improve\n",
      "18750/18750 [==============================] - 1s - loss: 0.0635 - acc: 0.9786     \n",
      "Epoch 50/100\n",
      "18176/18750 [============================>.] - ETA: 0s - loss: 0.0781 - acc: 0.9716Epoch 00049: acc did not improve\n",
      "18750/18750 [==============================] - 1s - loss: 0.0792 - acc: 0.9710     \n",
      "Epoch 51/100\n",
      "18176/18750 [============================>.] - ETA: 0s - loss: 0.0769 - acc: 0.9726Epoch 00050: acc did not improve\n",
      "18750/18750 [==============================] - 1s - loss: 0.0776 - acc: 0.9720     \n",
      "Epoch 52/100\n",
      "18688/18750 [============================>.] - ETA: 0s - loss: 0.0931 - acc: 0.9651Epoch 00051: acc did not improve\n",
      "18750/18750 [==============================] - 1s - loss: 0.0930 - acc: 0.9651     \n",
      "Epoch 53/100\n",
      "18688/18750 [============================>.] - ETA: 0s - loss: 0.0919 - acc: 0.9666Epoch 00052: acc did not improve\n",
      "18750/18750 [==============================] - 1s - loss: 0.0918 - acc: 0.9666     \n",
      "Epoch 54/100\n",
      "18432/18750 [============================>.] - ETA: 0s - loss: 0.0764 - acc: 0.9725Epoch 00053: acc did not improve\n",
      "18750/18750 [==============================] - 1s - loss: 0.0764 - acc: 0.9726     \n",
      "Epoch 55/100\n",
      "18688/18750 [============================>.] - ETA: 0s - loss: 0.0625 - acc: 0.9774Epoch 00054: acc did not improve\n",
      "18750/18750 [==============================] - 1s - loss: 0.0628 - acc: 0.9773     \n",
      "Epoch 56/100\n",
      "18432/18750 [============================>.] - ETA: 0s - loss: 0.0669 - acc: 0.9754Epoch 00055: acc did not improve\n",
      "18750/18750 [==============================] - 1s - loss: 0.0670 - acc: 0.9755     \n",
      "Epoch 57/100\n",
      "18176/18750 [============================>.] - ETA: 0s - loss: 0.0613 - acc: 0.9786Epoch 00056: acc did not improve\n",
      "18750/18750 [==============================] - 1s - loss: 0.0610 - acc: 0.9788     \n",
      "Epoch 58/100\n",
      "18176/18750 [============================>.] - ETA: 0s - loss: 0.0657 - acc: 0.9769Epoch 00057: acc did not improve\n",
      "18750/18750 [==============================] - 1s - loss: 0.0654 - acc: 0.9771     \n",
      "Epoch 59/100\n",
      "18176/18750 [============================>.] - ETA: 0s - loss: 0.0652 - acc: 0.9765Epoch 00058: acc did not improve\n",
      "18750/18750 [==============================] - 1s - loss: 0.0655 - acc: 0.9762     \n",
      "Epoch 60/100\n",
      "18688/18750 [============================>.] - ETA: 0s - loss: 0.0663 - acc: 0.9758Epoch 00059: acc did not improve\n",
      "18750/18750 [==============================] - 1s - loss: 0.0665 - acc: 0.9757     \n",
      "Epoch 61/100\n",
      "18432/18750 [============================>.] - ETA: 0s - loss: 0.0585 - acc: 0.9780Epoch 00060: acc did not improve\n",
      "18750/18750 [==============================] - 1s - loss: 0.0586 - acc: 0.9778     \n",
      "Epoch 62/100\n",
      "18432/18750 [============================>.] - ETA: 0s - loss: 0.0611 - acc: 0.9779Epoch 00061: acc did not improve\n",
      "18750/18750 [==============================] - 1s - loss: 0.0612 - acc: 0.9777     \n",
      "Epoch 63/100\n",
      "18176/18750 [============================>.] - ETA: 0s - loss: 0.0766 - acc: 0.9714Epoch 00062: acc did not improve\n",
      "18750/18750 [==============================] - 1s - loss: 0.0761 - acc: 0.9717     \n",
      "Epoch 64/100\n",
      "18688/18750 [============================>.] - ETA: 0s - loss: 0.0694 - acc: 0.9739Epoch 00063: acc did not improve\n",
      "18750/18750 [==============================] - 1s - loss: 0.0693 - acc: 0.9739     \n",
      "Epoch 65/100\n",
      "18688/18750 [============================>.] - ETA: 0s - loss: 0.0612 - acc: 0.9776Epoch 00064: acc did not improve\n",
      "18750/18750 [==============================] - 1s - loss: 0.0615 - acc: 0.9776     \n",
      "Epoch 66/100\n",
      "18432/18750 [============================>.] - ETA: 0s - loss: 0.0708 - acc: 0.9747Epoch 00065: acc did not improve\n",
      "18750/18750 [==============================] - 1s - loss: 0.0712 - acc: 0.9747     \n",
      "Epoch 67/100\n",
      "18432/18750 [============================>.] - ETA: 0s - loss: 0.0785 - acc: 0.9721Epoch 00066: acc did not improve\n",
      "18750/18750 [==============================] - 1s - loss: 0.0787 - acc: 0.9721     \n",
      "Epoch 68/100\n",
      "18432/18750 [============================>.] - ETA: 0s - loss: 0.0838 - acc: 0.9684Epoch 00067: acc did not improve\n",
      "18750/18750 [==============================] - 1s - loss: 0.0839 - acc: 0.9685     \n",
      "Epoch 69/100\n",
      "18688/18750 [============================>.] - ETA: 0s - loss: 0.0958 - acc: 0.9633Epoch 00068: acc did not improve\n"
     ]
    },
    {
     "name": "stdout",
     "output_type": "stream",
     "text": [
      "18750/18750 [==============================] - 1s - loss: 0.0957 - acc: 0.9634     \n",
      "Epoch 70/100\n",
      "18688/18750 [============================>.] - ETA: 0s - loss: 0.0821 - acc: 0.9676Epoch 00069: acc did not improve\n",
      "18750/18750 [==============================] - 1s - loss: 0.0820 - acc: 0.9677     \n",
      "Epoch 71/100\n",
      "18688/18750 [============================>.] - ETA: 0s - loss: 0.0858 - acc: 0.9653Epoch 00070: acc did not improve\n",
      "18750/18750 [==============================] - 1s - loss: 0.0858 - acc: 0.9653     \n",
      "Epoch 72/100\n",
      "18688/18750 [============================>.] - ETA: 0s - loss: 0.0788 - acc: 0.9686Epoch 00071: acc did not improve\n",
      "18750/18750 [==============================] - 1s - loss: 0.0787 - acc: 0.9687     \n",
      "Epoch 73/100\n",
      "18688/18750 [============================>.] - ETA: 0s - loss: 0.1019 - acc: 0.9597Epoch 00072: acc did not improve\n",
      "18750/18750 [==============================] - 1s - loss: 0.1019 - acc: 0.9597     \n",
      "Epoch 74/100\n",
      "18432/18750 [============================>.] - ETA: 0s - loss: 0.0867 - acc: 0.9673Epoch 00073: acc did not improve\n",
      "18750/18750 [==============================] - 1s - loss: 0.0865 - acc: 0.9674     \n",
      "Epoch 75/100\n",
      "18688/18750 [============================>.] - ETA: 0s - loss: 0.0784 - acc: 0.9683Epoch 00074: acc did not improve\n",
      "18750/18750 [==============================] - 1s - loss: 0.0784 - acc: 0.9683     \n",
      "Epoch 76/100\n",
      "18688/18750 [============================>.] - ETA: 0s - loss: 0.0768 - acc: 0.9694Epoch 00075: acc did not improve\n",
      "18750/18750 [==============================] - 1s - loss: 0.0768 - acc: 0.9695     \n",
      "Epoch 77/100\n",
      "18688/18750 [============================>.] - ETA: 0s - loss: 0.0784 - acc: 0.9679Epoch 00076: acc did not improve\n",
      "18750/18750 [==============================] - 1s - loss: 0.0783 - acc: 0.9679     \n",
      "Epoch 78/100\n",
      "18176/18750 [============================>.] - ETA: 0s - loss: 0.0751 - acc: 0.9702Epoch 00077: acc did not improve\n",
      "18750/18750 [==============================] - 1s - loss: 0.0755 - acc: 0.9699     \n",
      "Epoch 79/100\n",
      "18176/18750 [============================>.] - ETA: 0s - loss: 0.0856 - acc: 0.9669Epoch 00078: acc did not improve\n",
      "18750/18750 [==============================] - 1s - loss: 0.0864 - acc: 0.9666     \n",
      "Epoch 80/100\n",
      "18688/18750 [============================>.] - ETA: 0s - loss: 0.0913 - acc: 0.9620Epoch 00079: acc did not improve\n",
      "18750/18750 [==============================] - 1s - loss: 0.0912 - acc: 0.9621     \n",
      "Epoch 81/100\n",
      "18176/18750 [============================>.] - ETA: 0s - loss: 0.0763 - acc: 0.9697Epoch 00080: acc did not improve\n",
      "18750/18750 [==============================] - 1s - loss: 0.0765 - acc: 0.9695     \n",
      "Epoch 82/100\n",
      "18688/18750 [============================>.] - ETA: 0s - loss: 0.0773 - acc: 0.9687Epoch 00081: acc did not improve\n",
      "18750/18750 [==============================] - 1s - loss: 0.0771 - acc: 0.9688     \n",
      "Epoch 83/100\n",
      "18176/18750 [============================>.] - ETA: 0s - loss: 0.0851 - acc: 0.9655Epoch 00082: acc did not improve\n",
      "18750/18750 [==============================] - 1s - loss: 0.0850 - acc: 0.9656     \n",
      "Epoch 84/100\n",
      "18688/18750 [============================>.] - ETA: 0s - loss: 0.0856 - acc: 0.9673Epoch 00083: acc did not improve\n",
      "18750/18750 [==============================] - 1s - loss: 0.0857 - acc: 0.9674     \n",
      "Epoch 85/100\n",
      "18688/18750 [============================>.] - ETA: 0s - loss: 0.0870 - acc: 0.9664Epoch 00084: acc did not improve\n",
      "18750/18750 [==============================] - 1s - loss: 0.0870 - acc: 0.9665     \n",
      "Epoch 86/100\n",
      "18432/18750 [============================>.] - ETA: 0s - loss: 0.0898 - acc: 0.9645Epoch 00085: acc did not improve\n",
      "18750/18750 [==============================] - 1s - loss: 0.0896 - acc: 0.9645     \n",
      "Epoch 87/100\n",
      "18688/18750 [============================>.] - ETA: 0s - loss: 0.0710 - acc: 0.9716Epoch 00086: acc did not improve\n",
      "18750/18750 [==============================] - 1s - loss: 0.0712 - acc: 0.9715     \n",
      "Epoch 88/100\n",
      "18432/18750 [============================>.] - ETA: 0s - loss: 0.0790 - acc: 0.9691Epoch 00087: acc did not improve\n",
      "18750/18750 [==============================] - 1s - loss: 0.0789 - acc: 0.9690     \n",
      "Epoch 89/100\n",
      "18688/18750 [============================>.] - ETA: 0s - loss: 0.0817 - acc: 0.9671Epoch 00088: acc did not improve\n",
      "18750/18750 [==============================] - 1s - loss: 0.0816 - acc: 0.9672     \n",
      "Epoch 90/100\n",
      "18176/18750 [============================>.] - ETA: 0s - loss: 0.0769 - acc: 0.9695Epoch 00089: acc did not improve\n",
      "18750/18750 [==============================] - 1s - loss: 0.0781 - acc: 0.9691     \n",
      "Epoch 91/100\n",
      "18176/18750 [============================>.] - ETA: 0s - loss: 0.1020 - acc: 0.9595Epoch 00090: acc did not improve\n",
      "18750/18750 [==============================] - 1s - loss: 0.1022 - acc: 0.9594     \n",
      "Epoch 92/100\n",
      "18688/18750 [============================>.] - ETA: 0s - loss: 0.0904 - acc: 0.9628Epoch 00091: acc did not improve\n",
      "18750/18750 [==============================] - 1s - loss: 0.0904 - acc: 0.9628     \n",
      "Epoch 93/100\n",
      "18688/18750 [============================>.] - ETA: 0s - loss: 0.0781 - acc: 0.9693Epoch 00092: acc did not improve\n",
      "18750/18750 [==============================] - 1s - loss: 0.0781 - acc: 0.9694     \n",
      "Epoch 94/100\n",
      "18432/18750 [============================>.] - ETA: 0s - loss: 0.0788 - acc: 0.9689Epoch 00093: acc did not improve\n",
      "18750/18750 [==============================] - 1s - loss: 0.0790 - acc: 0.9686     \n",
      "Epoch 95/100\n",
      "18176/18750 [============================>.] - ETA: 0s - loss: 0.0863 - acc: 0.9642Epoch 00094: acc did not improve\n",
      "18750/18750 [==============================] - 1s - loss: 0.0857 - acc: 0.9643     \n",
      "Epoch 96/100\n",
      "18688/18750 [============================>.] - ETA: 0s - loss: 0.0723 - acc: 0.9700Epoch 00095: acc did not improve\n",
      "18750/18750 [==============================] - 1s - loss: 0.0722 - acc: 0.9700     \n",
      "Epoch 97/100\n",
      "18432/18750 [============================>.] - ETA: 0s - loss: 0.0753 - acc: 0.9701Epoch 00096: acc did not improve\n",
      "18750/18750 [==============================] - 1s - loss: 0.0754 - acc: 0.9701     \n",
      "Epoch 98/100\n",
      "18432/18750 [============================>.] - ETA: 0s - loss: 0.0733 - acc: 0.9704Epoch 00097: acc did not improve\n",
      "18750/18750 [==============================] - 1s - loss: 0.0733 - acc: 0.9703     \n",
      "Epoch 99/100\n",
      "18432/18750 [============================>.] - ETA: 0s - loss: 0.0816 - acc: 0.9668Epoch 00098: acc did not improve\n",
      "18750/18750 [==============================] - 1s - loss: 0.0820 - acc: 0.9667     \n",
      "Epoch 100/100\n",
      "18432/18750 [============================>.] - ETA: 0s - loss: 0.0809 - acc: 0.9667Epoch 00099: acc did not improve\n",
      "18750/18750 [==============================] - 1s - loss: 0.0808 - acc: 0.9667     \n",
      "170\n"
     ]
    },
    {
     "data": {
      "image/png": "[encoded data removed]",
      "text/plain": [
       "<Figure size 504x504 with 1 Axes>"
      ]
     },
     "metadata": {},
     "output_type": "display_data"
    },
    {
     "data": {
      "image/png": "[encoded data removed]",
      "text/plain": [
       "<Figure size 360x360 with 1 Axes>"
      ]
     },
     "metadata": {},
     "output_type": "display_data"
    }
   ],
   "source": [
    "# pre epoch: 100 \n",
    "start_t  = datetime.datetime.now()\n",
    "history = model.fit(x=Xtrain, y=ytrain, batch_size=256, epochs=100, callbacks=callbacks_list)\n",
    "end_t = datetime.datetime.now()\n",
    "print ((end_t - start_t).seconds)\n",
    "np.savetxt(\"KS_D1A1300_loss.txt\",history.history['loss'])\n",
    "np.savetxt(\"KS_D1A1300_acc.txt\",history.history['acc'])\n",
    "\n",
    "\n",
    "plt.figure(figsize=(7,7))\n",
    "plt.grid()\n",
    "plt.plot(history.history['loss'])\n",
    "\n",
    "# plt.plot(history.history['val_loss'])这个一定要干掉\n",
    "plt.ylabel('Loss')\n",
    "plt.xlabel('Epochs')\n",
    "plt.legend(['Training','Validation'], loc='upper right')\n",
    "plt.savefig(\"loss_curve.pdf\")\n",
    "plt.show()\n",
    "\n",
    "plt.figure(figsize=(5,5))\n",
    "plt.ylim(0,1.1)\n",
    "plt.grid()\n",
    "plt.plot(history.history['acc'])\n",
    "\n",
    "# plt.plot(history.history['val_acc'])这个一定要干掉\n",
    "plt.ylabel('Accuracy')\n",
    "plt.xlabel('Epochs')\n",
    "plt.legend(['Training','Validation'])\n",
    "plt.savefig(\"acc_curve.pdf\")\n",
    "plt.show()"
   ]
  },
  {
   "cell_type": "markdown",
   "metadata": {},
   "source": [
    "plt.figure(figsize=(7,7))\n",
    "plt.grid()\n",
    "plt.plot(history.history['loss'])\n",
    "#plt.plot(history.history['val_loss'])\n",
    "plt.ylabel('Loss')\n",
    "plt.xlabel('Epochs')\n",
    "plt.legend(['Training','Validation'], loc='upper right')\n",
    "plt.savefig(\"loss_curve.pdf\")\n",
    "plt.show()"
   ]
  },
  {
   "cell_type": "markdown",
   "metadata": {},
   "source": [
    "plt.figure(figsize=(5,5))\n",
    "plt.ylim(0,1.1)\n",
    "plt.grid()\n",
    "plt.plot(history.history['acc'])\n",
    "#plt.plot(history.history['val_acc'])\n",
    "plt.ylabel('Accuracy')\n",
    "plt.xlabel('Epochs')\n",
    "plt.legend(['Training','Validation'])\n",
    "plt.savefig(\"acc_curve.pdf\")\n",
    "plt.show()"
   ]
  },
  {
   "cell_type": "markdown",
   "metadata": {},
   "source": [
    "# Validation"
   ]
  },
  {
   "cell_type": "code",
   "execution_count": 72,
   "metadata": {
    "collapsed": true
   },
   "outputs": [],
   "source": [
    "# load best weights TODO TODO\n",
    "model.load_weights(\"best-model.hdf5\")\n",
    "model.compile(loss='categorical_crossentropy', optimizer=adam, metrics=['accuracy'])"
   ]
  },
  {
   "cell_type": "code",
   "execution_count": 73,
   "metadata": {},
   "outputs": [
    {
     "data": {
      "text/plain": [
       "(43750, 25, 25, 15, 1)"
      ]
     },
     "execution_count": 73,
     "metadata": {},
     "output_type": "execute_result"
    }
   ],
   "source": [
    "Xtest = Xtest.reshape(-1, windowSize, windowSize, K, 1)\n",
    "Xtest.shape"
   ]
  },
  {
   "cell_type": "code",
   "execution_count": 74,
   "metadata": {},
   "outputs": [
    {
     "data": {
      "text/plain": [
       "(43750, 4)"
      ]
     },
     "execution_count": 74,
     "metadata": {},
     "output_type": "execute_result"
    }
   ],
   "source": [
    "ytest = np_utils.to_categorical(ytest)\n",
    "ytest.shape"
   ]
  },
  {
   "cell_type": "code",
   "execution_count": 75,
   "metadata": {},
   "outputs": [
    {
     "name": "stdout",
     "output_type": "stream",
     "text": [
      "              precision    recall  f1-score   support\n",
      "\n",
      "           0       0.84      0.80      0.82     17002\n",
      "           1       0.77      0.85      0.81     13171\n",
      "           2       0.68      0.73      0.71      9050\n",
      "           3       0.83      0.56      0.67      4527\n",
      "\n",
      "    accuracy                           0.78     43750\n",
      "   macro avg       0.78      0.74      0.75     43750\n",
      "weighted avg       0.78      0.78      0.78     43750\n",
      "\n"
     ]
    }
   ],
   "source": [
    "Y_pred_test = model.predict(Xtest)\n",
    "y_pred_test = np.argmax(Y_pred_test, axis=1)\n",
    "\n",
    "classification = classification_report(np.argmax(ytest, axis=1), y_pred_test)\n",
    "print(classification)"
   ]
  },
  {
   "cell_type": "code",
   "execution_count": 76,
   "metadata": {
    "collapsed": true
   },
   "outputs": [],
   "source": [
    "def AA_andEachClassAccuracy(confusion_matrix):\n",
    "    counter = confusion_matrix.shape[0]\n",
    "    list_diag = np.diag(confusion_matrix)\n",
    "    list_raw_sum = np.sum(confusion_matrix, axis=1)\n",
    "    each_acc = np.nan_to_num(truediv(list_diag, list_raw_sum))\n",
    "    average_acc = np.mean(each_acc)\n",
    "    return each_acc, average_acc"
   ]
  },
  {
   "cell_type": "code",
   "execution_count": 77,
   "metadata": {
    "collapsed": true
   },
   "outputs": [],
   "source": [
    "def reports (X_test,y_test,name):\n",
    "    #start = time.time()\n",
    "    Y_pred = model.predict(X_test)\n",
    "    y_pred = np.argmax(Y_pred, axis=1)\n",
    "    #end = time.time()\n",
    "    #print(end - start)\n",
    "    if name == 'IP':\n",
    "        target_names = ['Alfalfa', 'Corn-notill', 'Corn-mintill', 'Corn'\n",
    "                        ,'Grass-pasture', 'Grass-trees', 'Grass-pasture-mowed', \n",
    "                        'Hay-windrowed', 'Oats', 'Soybean-notill', 'Soybean-mintill',\n",
    "                        'Soybean-clean', 'Wheat', 'Woods', 'Buildings-Grass-Trees-Drives',\n",
    "                        'Stone-Steel-Towers']\n",
    "    elif name == 'SA':\n",
    "        target_names = ['Brocoli_green_weeds_1','Brocoli_green_weeds_2','Fallow','Fallow_rough_plow','Fallow_smooth',\n",
    "                        'Stubble','Celery','Grapes_untrained','Soil_vinyard_develop','Corn_senesced_green_weeds',\n",
    "                        'Lettuce_romaine_4wk','Lettuce_romaine_5wk','Lettuce_romaine_6wk','Lettuce_romaine_7wk',\n",
    "                        'Vinyard_untrained','Vinyard_vertical_trellis']\n",
    "    elif name == 'PU':\n",
    "        target_names = ['Asphalt','Meadows','Gravel','Trees', 'Painted metal sheets','Bare Soil','Bitumen',\n",
    "                        'Self-Blocking Bricks','Shadows']\n",
    "        #####################################################################################################################\n",
    "    elif name == 'BO':\n",
    "        target_names = [\"Water\", \"Hippo grass\",\n",
    "                        \"Floodplain grasses 1\", \"Floodplain grasses 2\",\n",
    "                        \"Reeds\", \"Riparian\", \"Firescar\", \"Island interior\",\n",
    "                        \"Acacia woodlands\", \"Acacia shrublands\",\n",
    "                        \"Acacia grasslands\", \"Short mopane\", \"Mixed mopane\",\n",
    "                        \"Exposed soils\"]\n",
    "    elif name == 'KS':\n",
    "        target_names = ['Scrub','Willow swamp','Cabbage palm hammock','Cabbage palm/oak hammock', 'Slash pine','Oak / broadleaf hammock','Hardwood swamp',\n",
    "                        'Graminoid marsh','Spartina marsh','Cattail marsh','Salt marsh','Mud flats','Water']\n",
    "    elif name == 'PA':\n",
    "        target_names = ['Water','Trees','Asphalt','Self-Blocking Bricks', 'Bitumen','Tiles','Shadows',\n",
    "                        'Meadows','Bare Soil']\n",
    "    elif name == 'URB':\n",
    "        target_names = ['Asphalt Road','Grass','Tree','Roof']\n",
    "    \n",
    "    classification = classification_report(np.argmax(y_test, axis=1), y_pred, target_names=target_names)\n",
    "    oa = accuracy_score(np.argmax(y_test, axis=1), y_pred)\n",
    "    confusion = confusion_matrix(np.argmax(y_test, axis=1), y_pred)\n",
    "    each_acc, aa = AA_andEachClassAccuracy(confusion)\n",
    "    kappa = cohen_kappa_score(np.argmax(y_test, axis=1), y_pred)\n",
    "    score = model.evaluate(X_test, y_test, batch_size=32)\n",
    "    Test_Loss =  score[0]*100\n",
    "    Test_accuracy = score[1]*100\n",
    "    \n",
    "    return classification, confusion, Test_Loss, Test_accuracy, oa*100, each_acc*100, aa*100, kappa*100"
   ]
  },
  {
   "cell_type": "code",
   "execution_count": 78,
   "metadata": {},
   "outputs": [
    {
     "name": "stdout",
     "output_type": "stream",
     "text": [
      "43680/43750 [============================>.] - ETA: 0s"
     ]
    }
   ],
   "source": [
    "classification, confusion, Test_loss, Test_accuracy, oa, each_acc, aa, kappa = reports(Xtest,ytest,dataset)\n",
    "classification = str(classification)\n",
    "confusion = str(confusion)\n",
    "file_name = \"classification_report.txt\"\n",
    "\n",
    "with open(file_name, 'w') as x_file:\n",
    "    x_file.write('{} Test loss (%)'.format(Test_loss))\n",
    "    x_file.write('\\n')\n",
    "    x_file.write('{} Test accuracy (%)'.format(Test_accuracy))\n",
    "    x_file.write('\\n')\n",
    "    x_file.write('\\n')\n",
    "    x_file.write('{} Kappa accuracy (%)'.format(kappa))\n",
    "    x_file.write('\\n')\n",
    "    x_file.write('{} Overall accuracy (%)'.format(oa))\n",
    "    x_file.write('\\n')\n",
    "    x_file.write('{} Average accuracy (%)'.format(aa))\n",
    "    x_file.write('\\n')\n",
    "    x_file.write('\\n')\n",
    "    x_file.write('{}'.format(classification))\n",
    "    x_file.write('\\n')\n",
    "    x_file.write('{}'.format(confusion))"
   ]
  },
  {
   "cell_type": "code",
   "execution_count": 83,
   "metadata": {
    "collapsed": true
   },
   "outputs": [],
   "source": [
    "def Patch(data,height_index,width_index):\n",
    "    height_slice = slice(height_index, height_index+PATCH_SIZE)\n",
    "    width_slice = slice(width_index, width_index+PATCH_SIZE)\n",
    "    patch = data[height_slice, width_slice, :]\n",
    "    \n",
    "    return patch"
   ]
  },
  {
   "cell_type": "code",
   "execution_count": 84,
   "metadata": {
    "collapsed": true
   },
   "outputs": [],
   "source": [
    "# load the original image\n",
    "X, y = loadData(dataset)"
   ]
  },
  {
   "cell_type": "code",
   "execution_count": 85,
   "metadata": {
    "collapsed": true
   },
   "outputs": [],
   "source": [
    "height = y.shape[0]\n",
    "width = y.shape[1]\n",
    "PATCH_SIZE = windowSize\n",
    "numComponents = K"
   ]
  },
  {
   "cell_type": "code",
   "execution_count": 86,
   "metadata": {
    "collapsed": true
   },
   "outputs": [],
   "source": [
    "X,pca = applyPCA(X, numComponents=numComponents)"
   ]
  },
  {
   "cell_type": "code",
   "execution_count": 87,
   "metadata": {
    "collapsed": true
   },
   "outputs": [],
   "source": [
    "X = padWithZeros(X, PATCH_SIZE//2)"
   ]
  },
  {
   "cell_type": "code",
   "execution_count": 88,
   "metadata": {
    "collapsed": true
   },
   "outputs": [],
   "source": [
    "# calculate the predicted image\n",
    "outputs = np.zeros((height,width))\n",
    "for i in range(height):\n",
    "    for j in range(width):\n",
    "        target = int(y[i,j])\n",
    "        if target == 0 :\n",
    "            continue\n",
    "        else :\n",
    "            image_patch=Patch(X,i,j)\n",
    "            X_test_image = image_patch.reshape(1,image_patch.shape[0],image_patch.shape[1], image_patch.shape[2], 1).astype('float32')                                   \n",
    "            prediction = (model.predict(X_test_image))\n",
    "            prediction = np.argmax(prediction, axis=1)\n",
    "            outputs[i][j] = prediction+1"
   ]
  },
  {
   "cell_type": "code",
   "execution_count": 89,
   "metadata": {},
   "outputs": [
    {
     "name": "stderr",
     "output_type": "stream",
     "text": [
      "C:\\Users\\GJC\\Anaconda3\\envs\\tensorflow_1_3\\lib\\site-packages\\spectral\\graphics\\spypylab.py:27: MatplotlibDeprecationWarning:\n",
      "\n",
      "\n",
      "The keymap.all_axes rcparam was deprecated in Matplotlib 3.3 and will be removed two minor releases later.\n",
      "\n",
      "C:\\Users\\GJC\\Anaconda3\\envs\\tensorflow_1_3\\lib\\site-packages\\spectral\\graphics\\spypylab.py:905: MatplotlibDeprecationWarning:\n",
      "\n",
      "Passing parameters norm and vmin/vmax simultaneously is deprecated since 3.3 and will become an error two minor releases later. Please pass vmin/vmax directly to the norm when creating it.\n",
      "\n"
     ]
    },
    {
     "data": {
      "image/png": "[encoded data removed]",
      "text/plain": [
       "<Figure size 504x504 with 1 Axes>"
      ]
     },
     "metadata": {},
     "output_type": "display_data"
    }
   ],
   "source": [
    "ground_truth = spectral.imshow(classes = y,figsize =(7,7))"
   ]
  },
  {
   "cell_type": "code",
   "execution_count": 90,
   "metadata": {},
   "outputs": [
    {
     "name": "stderr",
     "output_type": "stream",
     "text": [
      "C:\\Users\\GJC\\Anaconda3\\envs\\tensorflow_1_3\\lib\\site-packages\\spectral\\graphics\\spypylab.py:905: MatplotlibDeprecationWarning:\n",
      "\n",
      "Passing parameters norm and vmin/vmax simultaneously is deprecated since 3.3 and will become an error two minor releases later. Please pass vmin/vmax directly to the norm when creating it.\n",
      "\n"
     ]
    },
    {
     "data": {
      "image/png": "[encoded data removed]",
      "text/plain": [
       "<Figure size 504x504 with 1 Axes>"
      ]
     },
     "metadata": {},
     "output_type": "display_data"
    }
   ],
   "source": [
    "predict_image = spectral.imshow(classes = outputs.astype(int),figsize =(7,7))"
   ]
  },
  {
   "cell_type": "code",
   "execution_count": 91,
   "metadata": {
    "collapsed": true
   },
   "outputs": [],
   "source": [
    "spectral.save_rgb(\"predictions.jpg\", outputs.astype(int), colors=spectral.spy_colors)\n",
    "spectral.save_rgb(str(dataset)+\"_ground_truth.jpg\", y, colors=spectral.spy_colors)"
   ]
  },
  {
   "cell_type": "markdown",
   "metadata": {},
   "source": [
    "# spectral.save_rgb(str(dataset)+\"_ground_truth.jpg\", y, colors=spectral.spy_colors)"
   ]
  }
 ],
 "metadata": {
  "kernelspec": {
   "display_name": "Python 3",
   "language": "python",
   "name": "python3"
  },
  "language_info": {
   "codemirror_mode": {
    "name": "ipython",
    "version": 3
   },
   "file_extension": ".py",
   "mimetype": "text/x-python",
   "name": "python",
   "nbconvert_exporter": "python",
   "pygments_lexer": "ipython3",
   "version": "3.6.3"
  }
 },
 "nbformat": 4,
 "nbformat_minor": 2
}
